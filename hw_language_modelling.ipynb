{
  "cells": [
    {
      "cell_type": "markdown",
      "metadata": {
        "id": "d0ADTojbpfLt"
      },
      "source": [
        "<p style=\"align: center;\"><img src=\"https://static.tildacdn.com/tild6636-3531-4239-b465-376364646465/Deep_Learning_School.png\" width=\"400\"></p>\n",
        "\n",
        "# Домашнее задание. Обучение языковой модели с помощью LSTM (10 баллов)"
      ]
    },
    {
      "cell_type": "markdown",
      "metadata": {
        "id": "ldHSmYY6p_mZ"
      },
      "source": [
        "Э\n",
        "В этом задании Вам предстоит обучить языковую модель с помощью рекуррентной нейронной сети. В отличие от семинарского занятия, Вам необходимо будет работать с отдельными словами, а не буквами.\n",
        "\n",
        "\n",
        "Установим модуль ```datasets```, чтобы нам проще было работать с данными."
      ]
    },
    {
      "cell_type": "markdown",
      "metadata": {
        "id": "rh9ZXSeCpng9"
      },
      "source": [
        "Импорт необходимых библиотек"
      ]
    },
    {
      "cell_type": "code",
      "execution_count": 1,
      "metadata": {
        "id": "XOJi16bLpd_O"
      },
      "outputs": [],
      "source": [
        "import torch\n",
        "import torch.nn as nn\n",
        "from torch.utils.data import Dataset, DataLoader\n",
        "\n",
        "import numpy as np\n",
        "import matplotlib.pyplot as plt\n",
        "\n",
        "from tqdm.auto import tqdm\n",
        "from datasets import load_dataset\n",
        "from nltk.tokenize import sent_tokenize, word_tokenize\n",
        "from sklearn.model_selection import train_test_split\n",
        "import nltk\n",
        "\n",
        "from collections import Counter\n",
        "from typing import List\n",
        "\n",
        "import seaborn\n",
        "seaborn.set(palette='summer')"
      ]
    },
    {
      "cell_type": "code",
      "execution_count": 2,
      "metadata": {
        "id": "91JuM0SQvXud"
      },
      "outputs": [
        {
          "name": "stderr",
          "output_type": "stream",
          "text": [
            "[nltk_data] Downloading package punkt to /home/dmitry/nltk_data...\n",
            "[nltk_data]   Package punkt is already up-to-date!\n"
          ]
        },
        {
          "data": {
            "text/plain": [
              "True"
            ]
          },
          "execution_count": 2,
          "metadata": {},
          "output_type": "execute_result"
        }
      ],
      "source": [
        "nltk.download('punkt')"
      ]
    },
    {
      "cell_type": "code",
      "execution_count": 3,
      "metadata": {
        "id": "adJC8ShFq9HM"
      },
      "outputs": [
        {
          "data": {
            "text/plain": [
              "'cuda'"
            ]
          },
          "execution_count": 3,
          "metadata": {},
          "output_type": "execute_result"
        }
      ],
      "source": [
        "device = 'cuda' if torch.cuda.is_available() else 'cpu'\n",
        "device"
      ]
    },
    {
      "cell_type": "markdown",
      "metadata": {
        "id": "pwsfS1ENq5ig"
      },
      "source": [
        "## Подготовка данных\n",
        "\n",
        "Воспользуемся датасетом imdb. В нем хранятся отзывы о фильмах с сайта imdb. Загрузим данные с помощью функции ```load_dataset```"
      ]
    },
    {
      "cell_type": "code",
      "execution_count": 4,
      "metadata": {
        "id": "qHLNWOfJqSfc"
      },
      "outputs": [],
      "source": [
        "# Загрузим датасет\n",
        "dataset = load_dataset('imdb')"
      ]
    },
    {
      "cell_type": "markdown",
      "metadata": {
        "id": "24gn7CuZ9agP"
      },
      "source": [
        "### Препроцессинг данных и создание словаря (1 балл)\n",
        "\n",
        "Далее вам необходмо самостоятельно произвести препроцессинг данных и получить словарь или же просто ```set``` строк. Что необходимо сделать:\n",
        "\n",
        "1. Разделить отдельные тренировочные примеры на отдельные предложения с помощью функции ```sent_tokenize``` из бибилиотеки ```nltk```. Каждое отдельное предложение будет одним тренировочным примером.\n",
        "2. Оставить только те предложения, в которых меньше ```word_threshold``` слов.\n",
        "3. Посчитать частоту вхождения каждого слова в оставшихся предложениях. Для деления предлоения на отдельные слова удобно использовать функцию ```word_tokenize```.\n",
        "4. Создать объект ```vocab``` класса ```set```, положить в него служебные токены '\\<unk\\>', '\\<bos\\>', '\\<eos\\>', '\\<pad\\>' и vocab_size самых частовстречающихся слов.   "
      ]
    },
    {
      "cell_type": "code",
      "execution_count": 5,
      "metadata": {
        "id": "Ins2tVCdsS47"
      },
      "outputs": [
        {
          "data": {
            "application/vnd.jupyter.widget-view+json": {
              "model_id": "a0dd67259b424d05ad8f59d3e86025be",
              "version_major": 2,
              "version_minor": 0
            },
            "text/plain": [
              "  0%|          | 0/50000 [00:00<?, ?it/s]"
            ]
          },
          "metadata": {},
          "output_type": "display_data"
        }
      ],
      "source": [
        "sentences = []\n",
        "word_threshold = 32\n",
        "\n",
        "for sentence in tqdm(dataset['unsupervised']['text']):\n",
        "    sentences.extend(\n",
        "        [x.lower() for x in sent_tokenize(sentence) if len(word_tokenize(x)) < word_threshold]\n",
        "    )"
      ]
    },
    {
      "cell_type": "code",
      "execution_count": 6,
      "metadata": {
        "id": "bxeBxP3J1Rj3"
      },
      "outputs": [
        {
          "name": "stdout",
          "output_type": "stream",
          "text": [
            "Всего предложений: 392618\n"
          ]
        }
      ],
      "source": [
        "print(\"Всего предложений:\", len(sentences))"
      ]
    },
    {
      "cell_type": "code",
      "execution_count": 7,
      "metadata": {},
      "outputs": [],
      "source": [
        "def is_bad_token(word):\n",
        "    return False\n",
        "    #return (len(word) == 2 and word[0] == word[1]) or len(word) == 1"
      ]
    },
    {
      "cell_type": "markdown",
      "metadata": {
        "id": "iT82XkT6ULA_"
      },
      "source": [
        "Посчитаем для каждого слова его встречаемость."
      ]
    },
    {
      "cell_type": "code",
      "execution_count": 8,
      "metadata": {
        "id": "nEvCN0Y1w1yH"
      },
      "outputs": [
        {
          "data": {
            "application/vnd.jupyter.widget-view+json": {
              "model_id": "686af142e512476e910926577abc1c59",
              "version_major": 2,
              "version_minor": 0
            },
            "text/plain": [
              "  0%|          | 0/392618 [00:00<?, ?it/s]"
            ]
          },
          "metadata": {},
          "output_type": "display_data"
        }
      ],
      "source": [
        "words = Counter()\n",
        "\n",
        "for sentence in tqdm(sentences):\n",
        "    for word in word_tokenize(sentence):\n",
        "        if not is_bad_token(word):\n",
        "            words[word] += 1"
      ]
    },
    {
      "cell_type": "markdown",
      "metadata": {
        "id": "B4k4uSoHUSI0"
      },
      "source": [
        "Добавим в словарь ```vocab_size``` самых встречающихся слов."
      ]
    },
    {
      "cell_type": "code",
      "execution_count": 9,
      "metadata": {
        "id": "oUBNwsK9xLIu"
      },
      "outputs": [],
      "source": [
        "special_tokens = ['<unk>', '<bos>', '<eos>', '<pad>']\n",
        "vocab = set()\n",
        "vocab_size = 40000\n",
        "\n",
        "\n",
        "vocab = special_tokens + [word for word, _ in words.most_common(vocab_size)]"
      ]
    },
    {
      "cell_type": "code",
      "execution_count": 10,
      "metadata": {
        "id": "ieT0DFUpXnV2"
      },
      "outputs": [],
      "source": [
        "assert '<unk>' in vocab\n",
        "assert '<bos>' in vocab\n",
        "assert '<eos>' in vocab\n",
        "assert '<pad>' in vocab\n",
        "assert len(vocab) == vocab_size + 4"
      ]
    },
    {
      "cell_type": "code",
      "execution_count": 11,
      "metadata": {
        "id": "JhACW2CQyck5"
      },
      "outputs": [
        {
          "name": "stdout",
          "output_type": "stream",
          "text": [
            "Всего слов в словаре: 40004\n"
          ]
        }
      ],
      "source": [
        "print(\"Всего слов в словаре:\", len(vocab))"
      ]
    },
    {
      "cell_type": "markdown",
      "metadata": {
        "id": "UmeRYKSIUcdE"
      },
      "source": [
        "### Подготовка датасета (1 балл)\n",
        "\n",
        "Далее, как и в семинарском занятии, подготовим датасеты и даталоадеры.\n",
        "\n",
        "В классе ```WordDataset``` вам необходимо реализовать метод ```__getitem__```, который будет возвращать сэмпл данных по входному idx, то есть список целых чисел (индексов слов).\n",
        "\n",
        "Внутри этого метода необходимо добавить служебные токены начала и конца последовательности, а также токенизировать соответствующее предложение с помощью ```word_tokenize``` и сопоставить ему индексы из ```word2ind```."
      ]
    },
    {
      "cell_type": "code",
      "execution_count": 12,
      "metadata": {
        "id": "iD7SmSy3v2dl"
      },
      "outputs": [],
      "source": [
        "word2ind = {char: i for i, char in enumerate(vocab)}\n",
        "ind2word = {i: char for char, i in word2ind.items()}"
      ]
    },
    {
      "cell_type": "code",
      "execution_count": 13,
      "metadata": {
        "id": "FVzXL17PzC7K"
      },
      "outputs": [],
      "source": [
        "class WordDataset:\n",
        "    def __init__(self, sentences):\n",
        "        self.data = sentences\n",
        "        self.unk_id = word2ind['<unk>']\n",
        "        self.bos_id = word2ind['<bos>']\n",
        "        self.eos_id = word2ind['<eos>']\n",
        "        self.pad_id = word2ind['<pad>']\n",
        "\n",
        "    def __getitem__(self, idx: int) -> List[int]:\n",
        "        tokenized_sentence = [self.bos_id]\n",
        "        for word in self.data[idx]:\n",
        "            if not is_bad_token(word):\n",
        "                tokenized_sentence.append(word2ind.get(word, self.unk_id))\n",
        "        \n",
        "        tokenized_sentence.append(self.eos_id)\n",
        "\n",
        "        return tokenized_sentence\n",
        "\n",
        "    def __len__(self) -> int:\n",
        "        return len(self.data)"
      ]
    },
    {
      "cell_type": "code",
      "execution_count": 14,
      "metadata": {
        "id": "I6CtYNMp2_g0"
      },
      "outputs": [],
      "source": [
        "def collate_fn_with_padding(\n",
        "    input_batch: List[List[int]], pad_id=word2ind['<pad>']) -> torch.Tensor:\n",
        "    seq_lens = [len(x) for x in input_batch]\n",
        "    max_seq_len = max(seq_lens)\n",
        "\n",
        "    new_batch = []\n",
        "    for sequence in input_batch:\n",
        "        for _ in range(max_seq_len - len(sequence)):\n",
        "            sequence.append(pad_id)\n",
        "        new_batch.append(sequence)\n",
        "\n",
        "    sequences = torch.LongTensor(new_batch).to(device)\n",
        "\n",
        "    new_batch = {\n",
        "        'input_ids': sequences[:,:-1],\n",
        "        'target_ids': sequences[:,1:]\n",
        "    }\n",
        "\n",
        "    return new_batch"
      ]
    },
    {
      "cell_type": "code",
      "execution_count": 15,
      "metadata": {
        "id": "6xmeK9Ys1BIG"
      },
      "outputs": [],
      "source": [
        "train_sentences, eval_sentences = train_test_split(sentences, test_size=0.2)\n",
        "eval_sentences, test_sentences = train_test_split(sentences, test_size=0.5)\n",
        "\n",
        "train_dataset = WordDataset(train_sentences)\n",
        "eval_dataset = WordDataset(eval_sentences)\n",
        "test_dataset = WordDataset(test_sentences)\n",
        "\n",
        "batch_size = 32\n",
        "\n",
        "train_dataloader = DataLoader(\n",
        "    train_dataset, collate_fn=collate_fn_with_padding, batch_size=batch_size)\n",
        "\n",
        "eval_dataloader = DataLoader(\n",
        "    eval_dataset, collate_fn=collate_fn_with_padding, batch_size=batch_size)\n",
        "\n",
        "test_dataloader = DataLoader(\n",
        "    test_dataset, collate_fn=collate_fn_with_padding, batch_size=batch_size)"
      ]
    },
    {
      "cell_type": "markdown",
      "metadata": {
        "id": "SMAexY7Y45E4"
      },
      "source": [
        "## Обучение и архитектура модели\n",
        "\n",
        "Вам необходимо на практике проверить, что влияет на качество языковых моделей. В этом задании нужно провести серию экспериментов с различными вариантами языковых моделей и сравнить различия в конечной перплексии на тестовом множестве.\n",
        "\n",
        "Возмоэные идеи для экспериментов:\n",
        "\n",
        "* Различные RNN-блоки, например, LSTM или GRU. Также можно добавить сразу несколько RNN блоков друг над другом с помощью аргумента num_layers. Вам поможет официальная документация [здесь](https://pytorch.org/docs/stable/generated/torch.nn.LSTM.html)\n",
        "* Различные размеры скрытого состояния. Различное количество линейных слоев после RNN-блока. Различные функции активации.\n",
        "* Добавление нормализаций в виде Dropout, BatchNorm или LayerNorm\n",
        "* Различные аргументы для оптимизации, например, подбор оптимального learning rate или тип алгоритма оптимизации SGD, Adam, RMSProp и другие\n",
        "* Любые другие идеи и подходы\n",
        "\n",
        "После проведения экспериментов необходимо составить таблицу результатов, в которой описан каждый эксперимент и посчитана перплексия на тестовом множестве.\n",
        "\n",
        "Учтите, что эксперименты, которые различаются, например, только размером скрытого состояния или количеством линейных слоев считаются, как один эксперимент.\n",
        "\n",
        "Успехов!"
      ]
    },
    {
      "cell_type": "markdown",
      "metadata": {
        "id": "KP1cO-3bmDv9"
      },
      "source": [
        "### Функция evaluate (1 балл)\n",
        "\n",
        "Заполните функцию ```evaluate```"
      ]
    },
    {
      "cell_type": "code",
      "execution_count": 16,
      "metadata": {
        "id": "XUlMUVJ3mL4r"
      },
      "outputs": [],
      "source": [
        "def evaluate(model, criterion, dataloader) -> float:\n",
        "    model.eval()\n",
        "    perplexity = []\n",
        "    with torch.no_grad():\n",
        "        for batch in dataloader:\n",
        "            logits = model(batch['input_ids']).flatten(start_dim=0, end_dim=1)\n",
        "            loss = criterion(logits, batch['target_ids'].flatten())\n",
        "            perplexity.append(torch.exp(loss).item())\n",
        "\n",
        "    perplexity = sum(perplexity) / len(perplexity)\n",
        "\n",
        "    return perplexity"
      ]
    },
    {
      "cell_type": "markdown",
      "metadata": {
        "id": "bLV63Vsk7loy"
      },
      "source": [
        "### Train loop (1 балл)\n",
        "\n",
        "Напишите функцию для обучения модели."
      ]
    },
    {
      "cell_type": "code",
      "execution_count": 17,
      "metadata": {
        "id": "bSZmUC3YmocP"
      },
      "outputs": [],
      "source": [
        "def train_model(model, num_epochs, optimizer, criterion, train_dataloader, eval_dataloader, writer):\n",
        "    for epoch in tqdm(range(num_epochs)):\n",
        "        train_perplexity = []\n",
        "        val_perplexity = []\n",
        "\n",
        "        train_losses = []\n",
        "        val_losses = []\n",
        "\n",
        "        train_predictions = []\n",
        "        train_target = []\n",
        "\n",
        "        model.train()\n",
        "        for batch in tqdm(train_dataloader, desc=f'Training epoch {epoch}'):\n",
        "            optimizer.zero_grad()\n",
        "            logits = model(batch['input_ids']).flatten(start_dim=0, end_dim=1)\n",
        "            loss = criterion(logits, batch['target_ids'].flatten())\n",
        "            loss.backward()\n",
        "            optimizer.step()\n",
        "\n",
        "            train_losses.append(loss.item())\n",
        "            train_perplexity.append(torch.exp(loss).item())\n",
        "            train_predictions.append(logits.argmax(dim=1))\n",
        "            train_target.append(batch['target_ids'].flatten())\n",
        "\n",
        "        train_predictions = torch.cat(train_predictions)\n",
        "        train_target = torch.cat(train_target)\n",
        "    \n",
        "        val_predictions = []\n",
        "        val_target = []\n",
        "\n",
        "        model.eval()\n",
        "        with torch.no_grad():\n",
        "            for batch in tqdm(eval_dataloader, desc=f'Evaluating epoch {epoch}'):\n",
        "                logits = model(batch['input_ids']).flatten(start_dim=0, end_dim=1)\n",
        "                val_predictions.append(logits.argmax(dim=1))\n",
        "                val_target.append(batch['target_ids'].flatten())\n",
        "                loss = criterion(logits, batch['target_ids'].flatten())\n",
        "                val_losses.append(loss.item())\n",
        "                val_perplexity.append(torch.exp(loss).item())\n",
        "\n",
        "        val_predictions = torch.cat(val_predictions)\n",
        "        val_target = torch.cat(val_target)\n",
        "\n",
        "        writer.add_scalar('loss/train', np.mean(train_losses), epoch)\n",
        "        writer.add_scalar('loss/val', np.mean(val_losses), epoch)\n",
        "        writer.add_scalar('accuracy/train', (train_predictions == train_target).float().mean().item(), epoch)\n",
        "        writer.add_scalar('accuracy/val', (val_predictions == val_target).float().mean().item(), epoch)\n",
        "        writer.add_scalar('perplexity/train', sum(train_perplexity) / len(train_perplexity), epoch)\n",
        "        writer.add_scalar('perplexity/val', sum(val_perplexity) / len(val_perplexity), epoch)"
      ]
    },
    {
      "cell_type": "markdown",
      "metadata": {
        "id": "hXmeyhBQmuq4"
      },
      "source": [
        "### Первый эксперимент (2 балла)\n",
        "\n",
        "Определите архитектуру модели и обучите её."
      ]
    },
    {
      "cell_type": "code",
      "execution_count": 18,
      "metadata": {
        "id": "qaWvqNJom0ij"
      },
      "outputs": [],
      "source": [
        "class LanguageModel(nn.Module):\n",
        "    def __init__(self, hidden_dim: int, vocab_size: int):\n",
        "        super().__init__()\n",
        "        self.embedding = nn.Embedding(vocab_size, hidden_dim)\n",
        "        self.rnn = nn.GRU(hidden_dim, hidden_dim, batch_first=True)\n",
        "        self.linear = nn.Linear(hidden_dim, hidden_dim)\n",
        "        self.projection = nn.Linear(hidden_dim, vocab_size)\n",
        "        \n",
        "        self.non_lin = nn.Tanh()\n",
        "        self.dropout = nn.Dropout(0.1)\n",
        "\n",
        "    def forward(self, input_batch: torch.Tensor) -> torch.Tensor:\n",
        "        embeddings = self.embedding(input_batch)\n",
        "        output, _ = self.rnn(embeddings)\n",
        "        output = self.non_lin(output)\n",
        "        output = self.linear(output)\n",
        "        output = self.dropout(output)\n",
        "        output = self.non_lin(output)\n",
        "        output = self.projection(output)\n",
        "\n",
        "        return output"
      ]
    },
    {
      "cell_type": "code",
      "execution_count": 19,
      "metadata": {
        "id": "TxbEzn5fnBOY"
      },
      "outputs": [
        {
          "name": "stderr",
          "output_type": "stream",
          "text": [
            "2025-07-25 19:56:31.435572: E external/local_xla/xla/stream_executor/cuda/cuda_fft.cc:467] Unable to register cuFFT factory: Attempting to register factory for plugin cuFFT when one has already been registered\n",
            "WARNING: All log messages before absl::InitializeLog() is called are written to STDERR\n",
            "E0000 00:00:1753462592.446822   23363 cuda_dnn.cc:8579] Unable to register cuDNN factory: Attempting to register factory for plugin cuDNN when one has already been registered\n",
            "E0000 00:00:1753462592.731070   23363 cuda_blas.cc:1407] Unable to register cuBLAS factory: Attempting to register factory for plugin cuBLAS when one has already been registered\n",
            "W0000 00:00:1753462594.964356   23363 computation_placer.cc:177] computation placer already registered. Please check linkage and avoid linking the same target more than once.\n",
            "W0000 00:00:1753462594.964411   23363 computation_placer.cc:177] computation placer already registered. Please check linkage and avoid linking the same target more than once.\n",
            "W0000 00:00:1753462594.964416   23363 computation_placer.cc:177] computation placer already registered. Please check linkage and avoid linking the same target more than once.\n",
            "W0000 00:00:1753462594.964420   23363 computation_placer.cc:177] computation placer already registered. Please check linkage and avoid linking the same target more than once.\n",
            "2025-07-25 19:56:35.164488: I tensorflow/core/platform/cpu_feature_guard.cc:210] This TensorFlow binary is optimized to use available CPU instructions in performance-critical operations.\n",
            "To enable the following instructions: AVX2 FMA, in other operations, rebuild TensorFlow with the appropriate compiler flags.\n"
          ]
        }
      ],
      "source": [
        "from torch.utils.tensorboard import SummaryWriter\n",
        "\n",
        "model = LanguageModel(hidden_dim=256, vocab_size=len(vocab)).to(device)\n",
        "criterion = nn.CrossEntropyLoss(ignore_index=word2ind['<pad>'])\n",
        "optimizer = torch.optim.Adam(model.parameters(), lr=1e-3)\n",
        "writer = SummaryWriter('.logs/LanguageModel')"
      ]
    },
    {
      "cell_type": "code",
      "execution_count": 20,
      "metadata": {},
      "outputs": [
        {
          "data": {
            "application/vnd.jupyter.widget-view+json": {
              "model_id": "06550f16d9cc457abf58e175dc090ced",
              "version_major": 2,
              "version_minor": 0
            },
            "text/plain": [
              "  0%|          | 0/15 [00:00<?, ?it/s]"
            ]
          },
          "metadata": {},
          "output_type": "display_data"
        },
        {
          "data": {
            "application/vnd.jupyter.widget-view+json": {
              "model_id": "16a9ca0146724f02b96326c07a825ba5",
              "version_major": 2,
              "version_minor": 0
            },
            "text/plain": [
              "Training epoch 0:   0%|          | 0/9816 [00:00<?, ?it/s]"
            ]
          },
          "metadata": {},
          "output_type": "display_data"
        },
        {
          "data": {
            "application/vnd.jupyter.widget-view+json": {
              "model_id": "43095eb2d066459d9de1841e0c1373c8",
              "version_major": 2,
              "version_minor": 0
            },
            "text/plain": [
              "Evaluating epoch 0:   0%|          | 0/6135 [00:00<?, ?it/s]"
            ]
          },
          "metadata": {},
          "output_type": "display_data"
        },
        {
          "data": {
            "application/vnd.jupyter.widget-view+json": {
              "model_id": "e1bf45028c374465aae213c79a61e009",
              "version_major": 2,
              "version_minor": 0
            },
            "text/plain": [
              "Training epoch 1:   0%|          | 0/9816 [00:00<?, ?it/s]"
            ]
          },
          "metadata": {},
          "output_type": "display_data"
        },
        {
          "data": {
            "application/vnd.jupyter.widget-view+json": {
              "model_id": "fb795698217f4719b9bc9f33b293157c",
              "version_major": 2,
              "version_minor": 0
            },
            "text/plain": [
              "Evaluating epoch 1:   0%|          | 0/6135 [00:00<?, ?it/s]"
            ]
          },
          "metadata": {},
          "output_type": "display_data"
        },
        {
          "data": {
            "application/vnd.jupyter.widget-view+json": {
              "model_id": "3e2788809ba54e4180b0751cf6aaa31f",
              "version_major": 2,
              "version_minor": 0
            },
            "text/plain": [
              "Training epoch 2:   0%|          | 0/9816 [00:00<?, ?it/s]"
            ]
          },
          "metadata": {},
          "output_type": "display_data"
        },
        {
          "data": {
            "application/vnd.jupyter.widget-view+json": {
              "model_id": "1a78297b71124cc1ac3a33e0239d4c06",
              "version_major": 2,
              "version_minor": 0
            },
            "text/plain": [
              "Evaluating epoch 2:   0%|          | 0/6135 [00:00<?, ?it/s]"
            ]
          },
          "metadata": {},
          "output_type": "display_data"
        },
        {
          "data": {
            "application/vnd.jupyter.widget-view+json": {
              "model_id": "c29b62fb7a7e4517a52c7fe0e0fd8b22",
              "version_major": 2,
              "version_minor": 0
            },
            "text/plain": [
              "Training epoch 3:   0%|          | 0/9816 [00:00<?, ?it/s]"
            ]
          },
          "metadata": {},
          "output_type": "display_data"
        },
        {
          "data": {
            "application/vnd.jupyter.widget-view+json": {
              "model_id": "0da53307cd0f4302bee7f5ba20e04085",
              "version_major": 2,
              "version_minor": 0
            },
            "text/plain": [
              "Evaluating epoch 3:   0%|          | 0/6135 [00:00<?, ?it/s]"
            ]
          },
          "metadata": {},
          "output_type": "display_data"
        },
        {
          "data": {
            "application/vnd.jupyter.widget-view+json": {
              "model_id": "cc6c269c62b04973ba96ff3f3e709c2a",
              "version_major": 2,
              "version_minor": 0
            },
            "text/plain": [
              "Training epoch 4:   0%|          | 0/9816 [00:00<?, ?it/s]"
            ]
          },
          "metadata": {},
          "output_type": "display_data"
        },
        {
          "data": {
            "application/vnd.jupyter.widget-view+json": {
              "model_id": "3495d23760cb46d3b3760fd5b380c59b",
              "version_major": 2,
              "version_minor": 0
            },
            "text/plain": [
              "Evaluating epoch 4:   0%|          | 0/6135 [00:00<?, ?it/s]"
            ]
          },
          "metadata": {},
          "output_type": "display_data"
        },
        {
          "data": {
            "application/vnd.jupyter.widget-view+json": {
              "model_id": "9fbed3f283d644be92264f1d5e350240",
              "version_major": 2,
              "version_minor": 0
            },
            "text/plain": [
              "Training epoch 5:   0%|          | 0/9816 [00:00<?, ?it/s]"
            ]
          },
          "metadata": {},
          "output_type": "display_data"
        },
        {
          "data": {
            "application/vnd.jupyter.widget-view+json": {
              "model_id": "276d2e7eafc24f42876813b13b4a78b6",
              "version_major": 2,
              "version_minor": 0
            },
            "text/plain": [
              "Evaluating epoch 5:   0%|          | 0/6135 [00:00<?, ?it/s]"
            ]
          },
          "metadata": {},
          "output_type": "display_data"
        },
        {
          "data": {
            "application/vnd.jupyter.widget-view+json": {
              "model_id": "e16b90c800504b11b5657c2627e364bf",
              "version_major": 2,
              "version_minor": 0
            },
            "text/plain": [
              "Training epoch 6:   0%|          | 0/9816 [00:00<?, ?it/s]"
            ]
          },
          "metadata": {},
          "output_type": "display_data"
        },
        {
          "data": {
            "application/vnd.jupyter.widget-view+json": {
              "model_id": "5d2d54b8960b4feeab9307147afd21b7",
              "version_major": 2,
              "version_minor": 0
            },
            "text/plain": [
              "Evaluating epoch 6:   0%|          | 0/6135 [00:00<?, ?it/s]"
            ]
          },
          "metadata": {},
          "output_type": "display_data"
        },
        {
          "data": {
            "application/vnd.jupyter.widget-view+json": {
              "model_id": "fbee057c9b0d491c9c7472d93c454b71",
              "version_major": 2,
              "version_minor": 0
            },
            "text/plain": [
              "Training epoch 7:   0%|          | 0/9816 [00:00<?, ?it/s]"
            ]
          },
          "metadata": {},
          "output_type": "display_data"
        },
        {
          "data": {
            "application/vnd.jupyter.widget-view+json": {
              "model_id": "ed44998ac7ba401ea929f5aa8224b8a9",
              "version_major": 2,
              "version_minor": 0
            },
            "text/plain": [
              "Evaluating epoch 7:   0%|          | 0/6135 [00:00<?, ?it/s]"
            ]
          },
          "metadata": {},
          "output_type": "display_data"
        },
        {
          "data": {
            "application/vnd.jupyter.widget-view+json": {
              "model_id": "cd66edf21b144ad7ab6e750267318c1c",
              "version_major": 2,
              "version_minor": 0
            },
            "text/plain": [
              "Training epoch 8:   0%|          | 0/9816 [00:00<?, ?it/s]"
            ]
          },
          "metadata": {},
          "output_type": "display_data"
        },
        {
          "data": {
            "application/vnd.jupyter.widget-view+json": {
              "model_id": "555602cb041a4d179df422949e0b3392",
              "version_major": 2,
              "version_minor": 0
            },
            "text/plain": [
              "Evaluating epoch 8:   0%|          | 0/6135 [00:00<?, ?it/s]"
            ]
          },
          "metadata": {},
          "output_type": "display_data"
        },
        {
          "data": {
            "application/vnd.jupyter.widget-view+json": {
              "model_id": "308e691087d14b1ea8f74714cd78c464",
              "version_major": 2,
              "version_minor": 0
            },
            "text/plain": [
              "Training epoch 9:   0%|          | 0/9816 [00:00<?, ?it/s]"
            ]
          },
          "metadata": {},
          "output_type": "display_data"
        },
        {
          "data": {
            "application/vnd.jupyter.widget-view+json": {
              "model_id": "88670ec673914271950bbdfd7e115b6a",
              "version_major": 2,
              "version_minor": 0
            },
            "text/plain": [
              "Evaluating epoch 9:   0%|          | 0/6135 [00:00<?, ?it/s]"
            ]
          },
          "metadata": {},
          "output_type": "display_data"
        },
        {
          "data": {
            "application/vnd.jupyter.widget-view+json": {
              "model_id": "ff35b0f92a9847a3a3ca7663cde0febf",
              "version_major": 2,
              "version_minor": 0
            },
            "text/plain": [
              "Training epoch 10:   0%|          | 0/9816 [00:00<?, ?it/s]"
            ]
          },
          "metadata": {},
          "output_type": "display_data"
        },
        {
          "data": {
            "application/vnd.jupyter.widget-view+json": {
              "model_id": "34920e33369f4b4593ffccfb7d931806",
              "version_major": 2,
              "version_minor": 0
            },
            "text/plain": [
              "Evaluating epoch 10:   0%|          | 0/6135 [00:00<?, ?it/s]"
            ]
          },
          "metadata": {},
          "output_type": "display_data"
        },
        {
          "data": {
            "application/vnd.jupyter.widget-view+json": {
              "model_id": "a7cbca6a621e402a9ab88b8fd3e0afb2",
              "version_major": 2,
              "version_minor": 0
            },
            "text/plain": [
              "Training epoch 11:   0%|          | 0/9816 [00:00<?, ?it/s]"
            ]
          },
          "metadata": {},
          "output_type": "display_data"
        },
        {
          "data": {
            "application/vnd.jupyter.widget-view+json": {
              "model_id": "9ab4ddea1979414e91a665070c066704",
              "version_major": 2,
              "version_minor": 0
            },
            "text/plain": [
              "Evaluating epoch 11:   0%|          | 0/6135 [00:00<?, ?it/s]"
            ]
          },
          "metadata": {},
          "output_type": "display_data"
        },
        {
          "data": {
            "application/vnd.jupyter.widget-view+json": {
              "model_id": "6fd1d357003c49fdbda3f0546c6d0d21",
              "version_major": 2,
              "version_minor": 0
            },
            "text/plain": [
              "Training epoch 12:   0%|          | 0/9816 [00:00<?, ?it/s]"
            ]
          },
          "metadata": {},
          "output_type": "display_data"
        },
        {
          "data": {
            "application/vnd.jupyter.widget-view+json": {
              "model_id": "89c74daae1474c4b935a7bd3339871bf",
              "version_major": 2,
              "version_minor": 0
            },
            "text/plain": [
              "Evaluating epoch 12:   0%|          | 0/6135 [00:00<?, ?it/s]"
            ]
          },
          "metadata": {},
          "output_type": "display_data"
        },
        {
          "data": {
            "application/vnd.jupyter.widget-view+json": {
              "model_id": "305039db07eb4de6b2f5456d7afdf987",
              "version_major": 2,
              "version_minor": 0
            },
            "text/plain": [
              "Training epoch 13:   0%|          | 0/9816 [00:00<?, ?it/s]"
            ]
          },
          "metadata": {},
          "output_type": "display_data"
        },
        {
          "data": {
            "application/vnd.jupyter.widget-view+json": {
              "model_id": "afa454b162e6401aaea6070ab1b441cb",
              "version_major": 2,
              "version_minor": 0
            },
            "text/plain": [
              "Evaluating epoch 13:   0%|          | 0/6135 [00:00<?, ?it/s]"
            ]
          },
          "metadata": {},
          "output_type": "display_data"
        },
        {
          "data": {
            "application/vnd.jupyter.widget-view+json": {
              "model_id": "0b4d25338b2744d49ededd9249b8f430",
              "version_major": 2,
              "version_minor": 0
            },
            "text/plain": [
              "Training epoch 14:   0%|          | 0/9816 [00:00<?, ?it/s]"
            ]
          },
          "metadata": {},
          "output_type": "display_data"
        },
        {
          "data": {
            "application/vnd.jupyter.widget-view+json": {
              "model_id": "0126d3f74f7e4a86b2970e97c37875fe",
              "version_major": 2,
              "version_minor": 0
            },
            "text/plain": [
              "Evaluating epoch 14:   0%|          | 0/6135 [00:00<?, ?it/s]"
            ]
          },
          "metadata": {},
          "output_type": "display_data"
        }
      ],
      "source": [
        "num_epochs = 15\n",
        "\n",
        "train_model(model, num_epochs, optimizer, criterion, train_dataloader, eval_dataloader, writer)"
      ]
    },
    {
      "cell_type": "code",
      "execution_count": 26,
      "metadata": {},
      "outputs": [
        {
          "name": "stdout",
          "output_type": "stream",
          "text": [
            "The tensorboard extension is already loaded. To reload it, use:\n",
            "  %reload_ext tensorboard\n"
          ]
        }
      ],
      "source": [
        "%load_ext tensorboard"
      ]
    },
    {
      "cell_type": "code",
      "execution_count": 27,
      "metadata": {},
      "outputs": [
        {
          "data": {
            "text/plain": [
              "Reusing TensorBoard on port 6006 (pid 26897), started 0:01:40 ago. (Use '!kill 26897' to kill it.)"
            ]
          },
          "metadata": {},
          "output_type": "display_data"
        },
        {
          "data": {
            "text/html": [
              "\n",
              "      <iframe id=\"tensorboard-frame-b232aa846d0d3d61\" width=\"100%\" height=\"800\" frameborder=\"0\">\n",
              "      </iframe>\n",
              "      <script>\n",
              "        (function() {\n",
              "          const frame = document.getElementById(\"tensorboard-frame-b232aa846d0d3d61\");\n",
              "          const url = new URL(\"http://localhost\");\n",
              "          const port = 6006;\n",
              "          if (port) {\n",
              "            url.port = port;\n",
              "          }\n",
              "          frame.src = url;\n",
              "        })();\n",
              "      </script>\n",
              "    "
            ],
            "text/plain": [
              "<IPython.core.display.HTML object>"
            ]
          },
          "metadata": {},
          "output_type": "display_data"
        }
      ],
      "source": [
        "%tensorboard --logdir .logs"
      ]
    },
    {
      "cell_type": "code",
      "execution_count": 23,
      "metadata": {},
      "outputs": [],
      "source": [
        "def generate_sequence(model, starting_seq: str, max_seq_len: int = 32) -> str:\n",
        "    device = 'cpu'\n",
        "    model = model.to(device)\n",
        "    input_ids = [word2ind['<bos>']] + [\n",
        "        word2ind.get(word, word2ind['<unk>']) for word in word_tokenize(starting_seq) if not is_bad_token(word)]\n",
        "    input_ids = torch.LongTensor(input_ids).to(device)\n",
        "\n",
        "    model.eval()\n",
        "    with torch.no_grad():\n",
        "        for i in range(max_seq_len):\n",
        "            next_word_distribution = model(input_ids)[-1]\n",
        "            next_word = next_word_distribution.squeeze().argmax()\n",
        "            input_ids = torch.cat([input_ids, next_word.unsqueeze(0)])\n",
        "\n",
        "            if next_word.item() == word2ind['<eos>']:\n",
        "                break\n",
        "\n",
        "    words = [ind2word[idx.item()] for idx in input_ids]\n",
        "\n",
        "    return ' '.join(words)"
      ]
    },
    {
      "cell_type": "code",
      "execution_count": 24,
      "metadata": {},
      "outputs": [
        {
          "data": {
            "text/plain": [
              "'<bos> hello <eos>'"
            ]
          },
          "execution_count": 24,
          "metadata": {},
          "output_type": "execute_result"
        }
      ],
      "source": [
        "generate_sequence(model, starting_seq='hello')"
      ]
    },
    {
      "cell_type": "markdown",
      "metadata": {
        "id": "X1EW4faIm0tl"
      },
      "source": [
        "### Второй эксперимент (2 балла)\n",
        "\n",
        "Попробуйте что-то поменять в модели или в пайплайне обучения, идеи для экспериментов можно подсмотреть выше."
      ]
    },
    {
      "cell_type": "code",
      "execution_count": 25,
      "metadata": {
        "id": "wkSE4jR1XzTg"
      },
      "outputs": [],
      "source": [
        "# Проведите второй эксперимент"
      ]
    },
    {
      "cell_type": "markdown",
      "metadata": {
        "id": "Y5V9H3eoFeAu"
      },
      "source": [
        "### Отчет (2 балла)\n",
        "\n",
        "Опишите проведенные эксперименты. Сравните перплексии полученных моделей. Предложите идеи по улучшению качества моделей."
      ]
    },
    {
      "cell_type": "code",
      "execution_count": null,
      "metadata": {
        "id": "M2GCDVeeF8LP"
      },
      "outputs": [],
      "source": []
    }
  ],
  "metadata": {
    "accelerator": "GPU",
    "colab": {
      "provenance": []
    },
    "gpuClass": "standard",
    "kernelspec": {
      "display_name": "dls-part-2",
      "language": "python",
      "name": "python3"
    },
    "language_info": {
      "codemirror_mode": {
        "name": "ipython",
        "version": 3
      },
      "file_extension": ".py",
      "mimetype": "text/x-python",
      "name": "python",
      "nbconvert_exporter": "python",
      "pygments_lexer": "ipython3",
      "version": "3.10.18"
    }
  },
  "nbformat": 4,
  "nbformat_minor": 0
}
